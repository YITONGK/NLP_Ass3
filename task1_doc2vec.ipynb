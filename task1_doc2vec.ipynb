{
  "cells": [
    {
      "cell_type": "markdown",
      "metadata": {
        "id": "32yCsRUo8H33"
      },
      "source": [
        "# 2025 COMP90042 Project\n",
        "*Make sure you change the file name with your group id.*"
      ]
    },
    {
      "cell_type": "markdown",
      "metadata": {
        "id": "XCybYoGz8YWQ"
      },
      "source": [
        "# Readme\n",
        "*If there is something to be noted for the marker, please mention here.*\n",
        "\n",
        "*If you are planning to implement a program with Object Oriented Programming style, please put those the bottom of this ipynb file*"
      ]
    },
    {
      "cell_type": "markdown",
      "metadata": {
        "id": "6po98qVA8bJD"
      },
      "source": [
        "# 1.DataSet Processing\n",
        "(You can add as many code blocks and text blocks as you need. However, YOU SHOULD NOT MODIFY the section title)"
      ]
    },
    {
      "cell_type": "code",
      "execution_count": 28,
      "metadata": {
        "colab": {
          "base_uri": "https://localhost:8080/"
        },
        "id": "0Z-dpwJfPuzE",
        "outputId": "bebaa35c-b4f9-4677-f910-b2804e44a861"
      },
      "outputs": [
        {
          "name": "stderr",
          "output_type": "stream",
          "text": [
            "[nltk_data] Downloading package stopwords to\n",
            "[nltk_data]     /Users/sophia/nltk_data...\n",
            "[nltk_data]   Package stopwords is already up-to-date!\n",
            "[nltk_data] Downloading package punkt to /Users/sophia/nltk_data...\n",
            "[nltk_data]   Package punkt is already up-to-date!\n",
            "[nltk_data] Downloading package punkt_tab to\n",
            "[nltk_data]     /Users/sophia/nltk_data...\n",
            "[nltk_data]   Package punkt_tab is already up-to-date!\n",
            "[nltk_data] Downloading package wordnet to /Users/sophia/nltk_data...\n",
            "[nltk_data]   Package wordnet is already up-to-date!\n"
          ]
        }
      ],
      "source": [
        "import pandas as pd\n",
        "import json\n",
        "import numpy as np\n",
        "import nltk\n",
        "from nltk.corpus import stopwords\n",
        "import re\n",
        "from collections import Counter\n",
        "from sklearn.feature_extraction.text import TfidfVectorizer\n",
        "from sklearn.neighbors import NearestNeighbors\n",
        "from gensim.models import Doc2Vec\n",
        "from sklearn.metrics.pairwise import cosine_similarity\n",
        "\n",
        "\n",
        "nltk.download('stopwords')\n",
        "nltk.download('punkt')\n",
        "nltk.download('punkt_tab')\n",
        "nltk.download('wordnet')\n",
        "\n",
        "stopwords = set(stopwords.words('english'))"
      ]
    },
    {
      "cell_type": "code",
      "execution_count": 29,
      "metadata": {
        "id": "zYFzrjDAUGRJ"
      },
      "outputs": [],
      "source": [
        "evidence = json.load(open('data/evidence.json', 'r'))\n",
        "train_claims = json.load(open('data/train-claims.json', 'r'))\n",
        "dev_claims = json.load(open('data/dev-claims.json', 'r'))\n",
        "test_claims = json.load(open('data/test-claims-unlabelled.json', 'r'))\n"
      ]
    },
    {
      "cell_type": "code",
      "execution_count": 30,
      "metadata": {},
      "outputs": [],
      "source": [
        "lemmatizer = nltk.stem.wordnet.WordNetLemmatizer()\n",
        "\n",
        "def lemmatize(word):\n",
        "    lemma = lemmatizer.lemmatize(word,'v')\n",
        "    if lemma == word:\n",
        "        lemma = lemmatizer.lemmatize(word,'n')\n",
        "    return lemma\n",
        "\t\n",
        "from nltk.stem.snowball import SnowballStemmer\n",
        "stemmer = SnowballStemmer('english')\n",
        "def data_preprocess(data, remove_stopwords, lemma, stem):\n",
        "\ttokens = nltk.word_tokenize(data.lower())\n",
        "\ttokens = [token for token in tokens if token.isalpha()]\n",
        "\tif remove_stopwords:\n",
        "\t\ttokens = [token for token in tokens if token not in stopwords]\n",
        "\tif lemma:\n",
        "\t\ttokens = [lemmatize(token) for token in tokens]\n",
        "\tif stem:\n",
        "\t\ttokens = [stemmer.stem(token) for token in tokens]\n",
        "\treturn ' '.join(tokens)"
      ]
    },
    {
      "cell_type": "code",
      "execution_count": 31,
      "metadata": {
        "colab": {
          "base_uri": "https://localhost:8080/"
        },
        "id": "3ZelnDCRNCbJ",
        "outputId": "60f0d052-1d9d-4ee5-9033-72be0c1a3507"
      },
      "outputs": [
        {
          "name": "stdout",
          "output_type": "stream",
          "text": [
            "English Evidence Count:, 1208387/1208827\n"
          ]
        }
      ],
      "source": [
        "# keep the sentence that contain English word\n",
        "english_evidence = {}\n",
        "# stopwords = set(stopwords.words('english'))\n",
        "for evidence_id, evidence_text in evidence.items():\n",
        "    tokens = nltk.word_tokenize(evidence_text)\n",
        "    english_tokens = [token for token in tokens if token.isalnum()]\n",
        "    english_tokens = [token for token in english_tokens if token.lower() not in stopwords]\n",
        "    if len(english_tokens) > 0:\n",
        "        english_text = ' '.join(english_tokens)\n",
        "        english_evidence[evidence_id] = english_text\n",
        "\n",
        "print(f\"English Evidence Count:, {len(english_evidence)}/{len(evidence)}\")"
      ]
    },
    {
      "cell_type": "code",
      "execution_count": 32,
      "metadata": {
        "colab": {
          "base_uri": "https://localhost:8080/"
        },
        "id": "GyGN8NlkNaAn",
        "outputId": "9c4c1fb6-ca8a-4541-f749-37a6db6e42ce"
      },
      "outputs": [
        {
          "name": "stdout",
          "output_type": "stream",
          "text": [
            "English Evidence Count: 1181638/1208827\n"
          ]
        }
      ],
      "source": [
        "english_evidence = {}\n",
        "for evidence_id, evidence_text in evidence.items():\n",
        "    tokens = nltk.word_tokenize(evidence_text)\n",
        "    english_tokens = [token for token in tokens if token.isalpha()]\n",
        "    if len(english_tokens) / len(tokens) > 0.5:\n",
        "        english_tokens = [token for token in english_tokens if token.lower() not in stopwords]\n",
        "        english_text = ' '.join(english_tokens)\n",
        "        english_evidence[evidence_id] = english_text\n",
        "\n",
        "print(f\"English Evidence Count: {len(english_evidence)}/{len(evidence)}\")\n"
      ]
    },
    {
      "cell_type": "code",
      "execution_count": 33,
      "metadata": {
        "id": "q0QGLgGvVkeN"
      },
      "outputs": [],
      "source": [
        "train_claims_text = []\n",
        "for claim in train_claims.values():\n",
        "    train_claims_text.append(data_preprocess(claim['claim_text'], True, True, False))\n",
        "\n",
        "dev_claims_text = []\n",
        "for claim in dev_claims.values():\n",
        "    dev_claims_text.append(data_preprocess(claim['claim_text'], True, True, False))\n",
        "\n",
        "claims_words = []\n",
        "for claims_text in [train_claims_text, dev_claims_text]:\n",
        "    for claim in claims_text:\n",
        "        tokens = nltk.word_tokenize(claim)\n",
        "        for token in tokens:\n",
        "            claims_words.append(token.lower())\n",
        "\n",
        "top_words = [word for word, count in Counter(claims_words).most_common(150)]\n"
      ]
    },
    {
      "cell_type": "code",
      "execution_count": 34,
      "metadata": {},
      "outputs": [],
      "source": [
        "evidence_with_top_words = {}\n",
        "for evidence_id, evidence_text in english_evidence.items():\n",
        "    words = nltk.word_tokenize(evidence_text)\n",
        "    if any(word.lower() in top_words for word in words):\n",
        "        evidence_with_top_words[evidence_id] = evidence_text\n",
        "\n",
        "for value in train_claims.values():\n",
        "    if \"evidences\" in value:\n",
        "        for evidence_id in value[\"evidences\"]:\n",
        "            if evidence_id in evidence:\n",
        "                evidence_with_top_words[evidence_id] = evidence[evidence_id]\n",
        "            else:\n",
        "                print(\"Evidence ID not found:\", evidence_id)"
      ]
    },
    {
      "cell_type": "code",
      "execution_count": 35,
      "metadata": {},
      "outputs": [],
      "source": [
        "def convert_to_df(data, labelled):\n",
        "\tdata_for_dataframe = []\n",
        "\tfor claim_id, claim_info in data.items():\n",
        "\t\tclaims_text = data_preprocess(claim_info['claim_text'], True, True, False)\n",
        "\t\tif labelled:\n",
        "\t\t\tclaim_label = claim_info['claim_label']\n",
        "\t\t\tevidence_id = claim_info['evidences']\n",
        "\t\t\tdata_for_dataframe.append({\n",
        "\t\t\t\t\t'claim_id': claim_id,\n",
        "\t\t\t\t\t'claim_text': claims_text,\n",
        "\t\t\t\t\t'claim_label': claim_label,\n",
        "\t\t\t\t\t'evidence_id': evidence_id\n",
        "\t\t\t\t})\n",
        "\t\telse:\n",
        "\t\t\tdata_for_dataframe.append({\n",
        "\t\t\t\t\t'claim_id': claim_id,\n",
        "\t\t\t\t\t'claim_text': claims_text\n",
        "\t\t\t\t})\n",
        "\n",
        "\tdf = pd.DataFrame(data_for_dataframe)\n",
        "\treturn df"
      ]
    },
    {
      "cell_type": "code",
      "execution_count": 36,
      "metadata": {},
      "outputs": [],
      "source": [
        "evidence_processed = {id: data_preprocess(text, True, True, False) for id, text in evidence.items()}\n",
        "filtered_evidence_processed = {id: data_preprocess(text, True, True, False) for id, text in evidence_with_top_words.items()}\n",
        "\n",
        "evidence_processed_df = pd.DataFrame(evidence_processed.items(), columns=['id', 'evidence'])\n",
        "filtered_evidence_processed_df = pd.DataFrame(filtered_evidence_processed.items(), columns=['id', 'evidence'])\n",
        "\n",
        "train_claims_df = convert_to_df(train_claims, True)\n",
        "train_claims_df['evidence_texts'] = train_claims_df['evidence_id'].apply(\n",
        "\tlambda x: [evidence_processed[evidence_id] for evidence_id in x]\n",
        ")\n",
        "\n",
        "dev_claims_df = convert_to_df(dev_claims, True)\n",
        "\n",
        "train_claims_list = train_claims_df['claim_text'].tolist()\n",
        "dev_claims_list = dev_claims_df['claim_text'].tolist()\n",
        "dev_claims_id = dev_claims_df['claim_id'].tolist()\n",
        "\n",
        "evidence_id = list(evidence_processed.keys())\n",
        "evidence_texts  = list(evidence_processed.values())\n",
        "filtered_evidence_texts = list(filtered_evidence_processed.values())"
      ]
    },
    {
      "cell_type": "markdown",
      "metadata": {
        "id": "1FA2ao2l8hOg"
      },
      "source": [
        "# 2. Model Implementation\n",
        "(You can add as many code blocks and text blocks as you need. However, YOU SHOULD NOT MODIFY the section title)"
      ]
    },
    {
      "cell_type": "code",
      "execution_count": 37,
      "metadata": {},
      "outputs": [],
      "source": [
        "from gensim.models.doc2vec import TaggedDocument\n",
        "all_texts = train_claims_list + filtered_evidence_texts\n",
        "tagged_data = [TaggedDocument(words=text.lower().split(), tags=[str(i)]) for i, text in enumerate(all_texts)]\n",
        "\n",
        "model = Doc2Vec(\n",
        "    vector_size=300,\n",
        "    window=5,\n",
        "    min_count=1,\n",
        "    workers=4,\n",
        "    epochs=20\n",
        ")\n",
        "\n",
        "model.build_vocab(tagged_data)\n",
        "model.train(tagged_data, total_examples=model.corpus_count, epochs=model.epochs)\n",
        "\n",
        "model.save(\"doc2vec.model\")"
      ]
    },
    {
      "cell_type": "code",
      "execution_count": 38,
      "metadata": {},
      "outputs": [],
      "source": [
        "model = Doc2Vec.load(\"doc2vec.model\")\n",
        "\n",
        "num_claims = len(filtered_evidence_texts)\n",
        "\n",
        "claims_vec = np.array([model.dv[str(i)] for i in range(num_claims, num_claims + len(dev_claims_list))])\n",
        "\n",
        "evidence_vec = np.array([model.dv[str(i)] for i in range(num_claims)])\n",
        "\n",
        "claims_vec = np.array([model.infer_vector(text.lower().split()) for text in dev_claims_list])\n",
        "evidence_vec = np.array([model.infer_vector(text.lower().split()) for text in filtered_evidence_texts])"
      ]
    },
    {
      "cell_type": "markdown",
      "metadata": {
        "id": "EzGuzHPE87Ya"
      },
      "source": [
        "# 3.Testing and Evaluation\n",
        "(You can add as many code blocks and text blocks as you need. However, YOU SHOULD NOT MODIFY the section title)"
      ]
    },
    {
      "cell_type": "code",
      "execution_count": 39,
      "metadata": {},
      "outputs": [],
      "source": [
        "\n",
        "def knn_retrieve(claims_id, claims_emb, evidence_emb, evidence_df, k=3):\n",
        "\tsim = cosine_similarity(claims_emb, evidence_emb)\n",
        "\n",
        "\ttop_evidence_id = {}\n",
        "\tfor i in range(sim.shape[0]):\n",
        "\t\ttop_k_idx = np.argsort(sim[i])[::-1][:k]\n",
        "\t\ttop_evidence_id[claims_id[i]] = [evidence_df.iloc[int(ind)]['id'] for ind in top_k_idx]\n",
        "\treturn top_evidence_id"
      ]
    },
    {
      "cell_type": "code",
      "execution_count": 40,
      "metadata": {},
      "outputs": [],
      "source": [
        "\n",
        "def knn_retrieve(claims_id, claims_emb, evidence_emb, evidence_df, k=3):\n",
        "\n",
        "    neigh = NearestNeighbors(n_neighbors=k, metric='cosine')\n",
        "    neigh.fit(evidence_emb)\n",
        "    \n",
        "    distances, indices = neigh.kneighbors(claims_emb)\n",
        "    \n",
        "    top_evidence_id = {}\n",
        "    for i in range(len(claims_id)):\n",
        "        top_evidence_id[claims_id[i]] = [evidence_df.iloc[int(idx)]['id'] for idx in indices[i]]\n",
        "    return top_evidence_id"
      ]
    },
    {
      "cell_type": "markdown",
      "metadata": {},
      "source": [
        "python eval.py --predictions dev_predict.json --groundtruth data/dev-claims.json"
      ]
    },
    {
      "cell_type": "code",
      "execution_count": 41,
      "metadata": {},
      "outputs": [],
      "source": [
        "top_evidence_id = knn_retrieve(dev_claims_id, claims_vec, evidence_vec, filtered_evidence_processed_df, k=3)\n",
        "\n",
        "with open('data/dev-claims.json', 'r') as input_file:\n",
        "    test_out_temp = json.load(input_file)\n",
        "\n",
        "for claim_id in test_out_temp:\n",
        "    test_out_temp[claim_id][\"evidences\"] = top_evidence_id.get(claim_id, [])\n",
        "\n",
        "with open(\"dev_predict.json\", \"w\") as outfile:\n",
        "    json.dump(test_out_temp, outfile, indent=2)"
      ]
    },
    {
      "cell_type": "code",
      "execution_count": 42,
      "metadata": {},
      "outputs": [],
      "source": [
        "top_evidence_id = knn_retrieve(dev_claims_id, claims_vec, evidence_vec, filtered_evidence_processed_df, k=3)\n",
        "\n",
        "with open('data/dev-claims.json', 'r') as input_file:\n",
        "    test_out_temp = json.load(input_file)\n",
        "\n",
        "for claim_id in test_out_temp:\n",
        "    test_out_temp[claim_id][\"evidences\"] = top_evidence_id.get(claim_id, [])\n",
        "\n",
        "with open(\"dev_predict.json\", \"w\") as outfile:\n",
        "    json.dump(test_out_temp, outfile, indent=2)"
      ]
    }
  ],
  "metadata": {
    "colab": {
      "provenance": []
    },
    "kernelspec": {
      "display_name": "Python 3",
      "language": "python",
      "name": "python3"
    },
    "language_info": {
      "codemirror_mode": {
        "name": "ipython",
        "version": 3
      },
      "file_extension": ".py",
      "mimetype": "text/x-python",
      "name": "python",
      "nbconvert_exporter": "python",
      "pygments_lexer": "ipython3",
      "version": "3.9.6"
    }
  },
  "nbformat": 4,
  "nbformat_minor": 0
}
