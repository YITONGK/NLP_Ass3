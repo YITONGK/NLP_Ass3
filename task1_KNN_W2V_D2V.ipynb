{
  "cells": [
    {
      "cell_type": "markdown",
      "metadata": {
        "id": "6po98qVA8bJD"
      },
      "source": [
        "# 1.DataSet Processing\n",
        "(You can add as many code blocks and text blocks as you need. However, YOU SHOULD NOT MODIFY the section title)"
      ]
    },
    {
      "cell_type": "code",
      "execution_count": 12,
      "metadata": {
        "colab": {
          "base_uri": "https://localhost:8080/"
        },
        "id": "0Z-dpwJfPuzE",
        "outputId": "bebaa35c-b4f9-4677-f910-b2804e44a861"
      },
      "outputs": [
        {
          "name": "stderr",
          "output_type": "stream",
          "text": [
            "[nltk_data] Downloading package stopwords to\n",
            "[nltk_data]     /Users/felikskong/nltk_data...\n",
            "[nltk_data]   Package stopwords is already up-to-date!\n",
            "[nltk_data] Downloading package punkt to\n",
            "[nltk_data]     /Users/felikskong/nltk_data...\n",
            "[nltk_data]   Package punkt is already up-to-date!\n",
            "[nltk_data] Downloading package punkt_tab to\n",
            "[nltk_data]     /Users/felikskong/nltk_data...\n",
            "[nltk_data]   Package punkt_tab is already up-to-date!\n",
            "[nltk_data] Downloading package wordnet to\n",
            "[nltk_data]     /Users/felikskong/nltk_data...\n",
            "[nltk_data]   Package wordnet is already up-to-date!\n"
          ]
        }
      ],
      "source": [
        "import pandas as pd\n",
        "import json\n",
        "import numpy as np\n",
        "import nltk\n",
        "from nltk.corpus import stopwords\n",
        "import re\n",
        "from collections import Counter\n",
        "from sklearn.feature_extraction.text import TfidfVectorizer\n",
        "from sklearn.neighbors import NearestNeighbors\n",
        "from gensim.models import Doc2Vec\n",
        "\n",
        "nltk.download('stopwords')\n",
        "nltk.download('punkt')\n",
        "nltk.download('punkt_tab')\n",
        "nltk.download('wordnet')\n",
        "stopwords = set(stopwords.words('english'))"
      ]
    },
    {
      "cell_type": "code",
      "execution_count": 2,
      "metadata": {
        "id": "zYFzrjDAUGRJ"
      },
      "outputs": [],
      "source": [
        "evidence = json.load(open('data/evidence.json', 'r'))\n",
        "train_claims = json.load(open('data/train-claims.json', 'r'))\n",
        "dev_claims = json.load(open('data/dev-claims.json', 'r'))\n",
        "test_claims = json.load(open('data/test-claims-unlabelled.json', 'r'))"
      ]
    },
    {
      "cell_type": "code",
      "execution_count": 3,
      "metadata": {},
      "outputs": [],
      "source": [
        "lemmatizer = nltk.stem.wordnet.WordNetLemmatizer()\n",
        "\n",
        "def lemmatize(word):\n",
        "    lemma = lemmatizer.lemmatize(word,'v')\n",
        "    if lemma == word:\n",
        "        lemma = lemmatizer.lemmatize(word,'n')\n",
        "    return lemma\n",
        "\t\n",
        "from nltk.stem.snowball import SnowballStemmer\n",
        "stemmer = SnowballStemmer('english')\n",
        "def data_preprocess(data, remove_stopwords, lemma, stem):\n",
        "\ttokens = nltk.word_tokenize(data.lower())\n",
        "\ttokens = [token for token in tokens if token.isalpha()]\n",
        "\tif remove_stopwords:\n",
        "\t\ttokens = [token for token in tokens if token not in stopwords]\n",
        "\tif lemma:\n",
        "\t\ttokens = [lemmatize(token) for token in tokens]\n",
        "\tif stem:\n",
        "\t\ttokens = [stemmer.stem(token) for token in tokens]\n",
        "\treturn ' '.join(tokens)"
      ]
    },
    {
      "cell_type": "code",
      "execution_count": 4,
      "metadata": {
        "colab": {
          "base_uri": "https://localhost:8080/"
        },
        "id": "GyGN8NlkNaAn",
        "outputId": "9c4c1fb6-ca8a-4541-f749-37a6db6e42ce"
      },
      "outputs": [
        {
          "name": "stdout",
          "output_type": "stream",
          "text": [
            "English Evidence Count:, 1181638/1208827\n"
          ]
        }
      ],
      "source": [
        "english_evidence = {}\n",
        "for evidence_id, evidence_text in evidence.items():\n",
        "    tokens = nltk.word_tokenize(evidence_text)\n",
        "    english_tokens = [token for token in tokens if token.isalpha()]\n",
        "    if len(english_tokens) / len(tokens) > 0.5:\n",
        "        english_tokens = [token for token in english_tokens if token.lower() not in stopwords]\n",
        "        english_text = ' '.join(english_tokens)\n",
        "        english_evidence[evidence_id] = english_text\n",
        "\n",
        "print(f\"English Evidence Count:, {len(english_evidence)}/{len(evidence)}\")\n"
      ]
    },
    {
      "cell_type": "code",
      "execution_count": 5,
      "metadata": {
        "id": "q0QGLgGvVkeN"
      },
      "outputs": [],
      "source": [
        "train_claims_text = []\n",
        "for claim in train_claims.values():\n",
        "    train_claims_text.append(data_preprocess(claim['claim_text'], True, True, False))\n",
        "\n",
        "dev_claims_text = []\n",
        "for claim in dev_claims.values():\n",
        "    dev_claims_text.append(data_preprocess(claim['claim_text'], True, True, False))\n",
        "\n",
        "claims_words = []\n",
        "for claims_text in [train_claims_text, dev_claims_text]:\n",
        "    for claim in claims_text:\n",
        "        tokens = nltk.word_tokenize(claim)\n",
        "        for token in tokens:\n",
        "            claims_words.append(token.lower())\n",
        "\n",
        "top_words = [word for word, count in Counter(claims_words).most_common(150)]\n"
      ]
    },
    {
      "cell_type": "code",
      "execution_count": 6,
      "metadata": {},
      "outputs": [],
      "source": [
        "evidence_with_top_words = {}\n",
        "for evidence_id, evidence_text in english_evidence.items():\n",
        "    words = nltk.word_tokenize(evidence_text)\n",
        "    if any(word.lower() in top_words for word in words):\n",
        "        evidence_with_top_words[evidence_id] = evidence_text\n",
        "\n",
        "for value in train_claims.values():\n",
        "    if \"evidences\" in value:\n",
        "        for evidence_id in value[\"evidences\"]:\n",
        "            if evidence_id in evidence:\n",
        "                evidence_with_top_words[evidence_id] = evidence[evidence_id]\n",
        "            else:\n",
        "                print(\"Evidence ID not found:\", evidence_id)"
      ]
    },
    {
      "cell_type": "code",
      "execution_count": 7,
      "metadata": {},
      "outputs": [],
      "source": [
        "def convert_to_df(data, labelled):\n",
        "\tdata_for_dataframe = []\n",
        "\tfor claim_id, claim_info in data.items():\n",
        "\t\tclaims_text = data_preprocess(claim_info['claim_text'], True, True, False)\n",
        "\t\tif labelled:\n",
        "\t\t\tclaim_label = claim_info['claim_label']\n",
        "\t\t\tevidence_id = claim_info['evidences']\n",
        "\t\t\tdata_for_dataframe.append({\n",
        "\t\t\t\t\t'claim_id': claim_id,\n",
        "\t\t\t\t\t'claim_text': claims_text,\n",
        "\t\t\t\t\t'claim_label': claim_label,\n",
        "\t\t\t\t\t'evidence_id': evidence_id\n",
        "\t\t\t\t})\n",
        "\t\telse:\n",
        "\t\t\tdata_for_dataframe.append({\n",
        "\t\t\t\t\t'claim_id': claim_id,\n",
        "\t\t\t\t\t'claim_text': claims_text\n",
        "\t\t\t\t})\n",
        "\n",
        "\tdf = pd.DataFrame(data_for_dataframe)\n",
        "\treturn df"
      ]
    },
    {
      "cell_type": "code",
      "execution_count": 8,
      "metadata": {},
      "outputs": [],
      "source": [
        "evidence_processed = {id: data_preprocess(text, True, True, False) for id, text in evidence.items()}\n",
        "filtered_evidence_processed = {id: data_preprocess(text, True, True, False) for id, text in evidence_with_top_words.items()}\n",
        "with open(\"filtered_evidence_processed.json\", \"w\") as outfile:\n",
        "    json.dump(filtered_evidence_processed, outfile, indent=2)\n",
        "\n",
        "evidence_processed_df = pd.DataFrame(evidence_processed.items(), columns=['id', 'evidence'])\n",
        "filtered_evidence_processed_df = pd.DataFrame(filtered_evidence_processed.items(), columns=['id', 'evidence'])\n",
        "\n",
        "train_claims_df = convert_to_df(train_claims, True)\n",
        "train_claims_df['evidence_texts'] = train_claims_df['evidence_id'].apply(\n",
        "\tlambda x: [evidence_processed[evidence_id] for evidence_id in x]\n",
        ")\n",
        "\n",
        "dev_claims_df = convert_to_df(dev_claims, True)\n",
        "\n",
        "train_claims_list = train_claims_df['claim_text'].tolist()\n",
        "dev_claims_list = dev_claims_df['claim_text'].tolist()\n",
        "dev_claims_id = dev_claims_df['claim_id'].tolist()\n",
        "\n",
        "evidence_id = list(evidence_processed.keys())\n",
        "evidence_texts  = list(evidence_processed.values())\n",
        "filtered_evidence_texts = list(filtered_evidence_processed.values())"
      ]
    },
    {
      "cell_type": "markdown",
      "metadata": {
        "id": "1FA2ao2l8hOg"
      },
      "source": [
        "# 2. Model Implementation\n",
        "(You can add as many code blocks and text blocks as you need. However, YOU SHOULD NOT MODIFY the section title)"
      ]
    },
    {
      "cell_type": "markdown",
      "metadata": {},
      "source": [
        "Tf-idf"
      ]
    },
    {
      "cell_type": "code",
      "execution_count": 9,
      "metadata": {},
      "outputs": [],
      "source": [
        "vectorizer = TfidfVectorizer()\n",
        "vectorizer.fit(train_claims_list + filtered_evidence_texts)\n",
        "evidence_vec = vectorizer.transform(filtered_evidence_texts)\n",
        "dev_claims_vec = vectorizer.transform(dev_claims_list)"
      ]
    },
    {
      "cell_type": "markdown",
      "metadata": {},
      "source": [
        "Word2vec"
      ]
    },
    {
      "cell_type": "code",
      "execution_count": 10,
      "metadata": {},
      "outputs": [],
      "source": [
        "from gensim.models import Word2Vec\n",
        "all_texts = train_claims_list + filtered_evidence_texts\n",
        "sentences = [text.lower().split() for text in all_texts]\n",
        "model = Word2Vec(\n",
        "    sentences=sentences,\n",
        "    vector_size=400,    \n",
        "    window=5,           \n",
        "    min_count=1,        \n",
        "    workers=4,          \n",
        "    sg=1              \n",
        ")\n",
        "model.save(\"word2vec.model\")\n",
        "\n",
        "model = Word2Vec.load(\"word2vec.model\")\n",
        "\n",
        "def sentence_to_vec(sentence, model):\n",
        "    words = sentence.lower().split()\n",
        "    word_vecs = [model.wv[word] for word in words if word in model.wv]\n",
        "    if len(word_vecs) == 0:\n",
        "        return np.zeros(model.vector_size)\n",
        "    return np.mean(word_vecs, axis=0)\n",
        "\n",
        "claims_vec = np.array([sentence_to_vec(text, model) for text in dev_claims_list])\n",
        "evidence_vec = np.array([sentence_to_vec(text, model) for text in filtered_evidence_texts])"
      ]
    },
    {
      "cell_type": "markdown",
      "metadata": {},
      "source": [
        "Doc2vec"
      ]
    },
    {
      "cell_type": "code",
      "execution_count": 13,
      "metadata": {},
      "outputs": [],
      "source": [
        "from gensim.models.doc2vec import TaggedDocument\n",
        "all_texts = train_claims_list + filtered_evidence_texts\n",
        "tagged_data = [TaggedDocument(words=text.lower().split(), tags=[str(i)]) for i, text in enumerate(all_texts)]\n",
        "\n",
        "model = Doc2Vec(\n",
        "    vector_size=300,\n",
        "    window=5,\n",
        "    min_count=1,\n",
        "    workers=4,\n",
        "    epochs=20\n",
        ")\n",
        "\n",
        "model.build_vocab(tagged_data)\n",
        "model.train(tagged_data, total_examples=model.corpus_count, epochs=model.epochs)\n",
        "\n",
        "model.save(\"doc2vec.model\")"
      ]
    },
    {
      "cell_type": "markdown",
      "metadata": {
        "id": "EzGuzHPE87Ya"
      },
      "source": [
        "# 3.Testing and Evaluation\n",
        "(You can add as many code blocks and text blocks as you need. However, YOU SHOULD NOT MODIFY the section title)"
      ]
    },
    {
      "cell_type": "markdown",
      "metadata": {},
      "source": [
        "topk"
      ]
    },
    {
      "cell_type": "code",
      "execution_count": 18,
      "metadata": {},
      "outputs": [
        {
          "ename": "ValueError",
          "evalue": "X has 288558 features, but NearestNeighbors is expecting 400 features as input.",
          "output_type": "error",
          "traceback": [
            "\u001b[31m---------------------------------------------------------------------------\u001b[39m",
            "\u001b[31mValueError\u001b[39m                                Traceback (most recent call last)",
            "\u001b[36mCell\u001b[39m\u001b[36m \u001b[39m\u001b[32mIn[18]\u001b[39m\u001b[32m, line 13\u001b[39m\n\u001b[32m     10\u001b[39m         top_evidence_id[claims_id[i]] = [evidence_df.iloc[\u001b[38;5;28mint\u001b[39m(idx)][\u001b[33m'\u001b[39m\u001b[33mid\u001b[39m\u001b[33m'\u001b[39m] \u001b[38;5;28;01mfor\u001b[39;00m idx \u001b[38;5;129;01min\u001b[39;00m indices[i]]\n\u001b[32m     11\u001b[39m     \u001b[38;5;28;01mreturn\u001b[39;00m top_evidence_id\n\u001b[32m---> \u001b[39m\u001b[32m13\u001b[39m top_evidence_id = knn_retrieve(dev_claims_id, dev_claims_vec, evidence_vec, filtered_evidence_processed_df, k=\u001b[32m3\u001b[39m)\n\u001b[32m     15\u001b[39m \u001b[38;5;28;01mwith\u001b[39;00m \u001b[38;5;28mopen\u001b[39m(\u001b[33m'\u001b[39m\u001b[33mdata/dev-claims.json\u001b[39m\u001b[33m'\u001b[39m, \u001b[33m'\u001b[39m\u001b[33mr\u001b[39m\u001b[33m'\u001b[39m) \u001b[38;5;28;01mas\u001b[39;00m input_file:\n\u001b[32m     16\u001b[39m     test_out_temp = json.load(input_file)\n",
            "\u001b[36mCell\u001b[39m\u001b[36m \u001b[39m\u001b[32mIn[18]\u001b[39m\u001b[32m, line 6\u001b[39m, in \u001b[36mknn_retrieve\u001b[39m\u001b[34m(claims_id, claims_emb, evidence_emb, evidence_df, k)\u001b[39m\n\u001b[32m      3\u001b[39m neigh = NearestNeighbors(n_neighbors=k, metric=\u001b[33m'\u001b[39m\u001b[33mcosine\u001b[39m\u001b[33m'\u001b[39m)\n\u001b[32m      4\u001b[39m neigh.fit(evidence_emb)\n\u001b[32m----> \u001b[39m\u001b[32m6\u001b[39m distances, indices = neigh.kneighbors(claims_emb)\n\u001b[32m      8\u001b[39m top_evidence_id = {}\n\u001b[32m      9\u001b[39m \u001b[38;5;28;01mfor\u001b[39;00m i \u001b[38;5;129;01min\u001b[39;00m \u001b[38;5;28mrange\u001b[39m(\u001b[38;5;28mlen\u001b[39m(claims_id)):\n",
            "\u001b[36mFile \u001b[39m\u001b[32m~/anaconda3/envs/nlp/lib/python3.11/site-packages/sklearn/neighbors/_base.py:838\u001b[39m, in \u001b[36mKNeighborsMixin.kneighbors\u001b[39m\u001b[34m(self, X, n_neighbors, return_distance)\u001b[39m\n\u001b[32m    836\u001b[39m         X = _check_precomputed(X)\n\u001b[32m    837\u001b[39m     \u001b[38;5;28;01melse\u001b[39;00m:\n\u001b[32m--> \u001b[39m\u001b[32m838\u001b[39m         X = validate_data(\n\u001b[32m    839\u001b[39m             \u001b[38;5;28mself\u001b[39m,\n\u001b[32m    840\u001b[39m             X,\n\u001b[32m    841\u001b[39m             ensure_all_finite=ensure_all_finite,\n\u001b[32m    842\u001b[39m             accept_sparse=\u001b[33m\"\u001b[39m\u001b[33mcsr\u001b[39m\u001b[33m\"\u001b[39m,\n\u001b[32m    843\u001b[39m             reset=\u001b[38;5;28;01mFalse\u001b[39;00m,\n\u001b[32m    844\u001b[39m             order=\u001b[33m\"\u001b[39m\u001b[33mC\u001b[39m\u001b[33m\"\u001b[39m,\n\u001b[32m    845\u001b[39m         )\n\u001b[32m    847\u001b[39m n_samples_fit = \u001b[38;5;28mself\u001b[39m.n_samples_fit_\n\u001b[32m    848\u001b[39m \u001b[38;5;28;01mif\u001b[39;00m n_neighbors > n_samples_fit:\n",
            "\u001b[36mFile \u001b[39m\u001b[32m~/anaconda3/envs/nlp/lib/python3.11/site-packages/sklearn/utils/validation.py:2965\u001b[39m, in \u001b[36mvalidate_data\u001b[39m\u001b[34m(_estimator, X, y, reset, validate_separately, skip_check_array, **check_params)\u001b[39m\n\u001b[32m   2962\u001b[39m     out = X, y\n\u001b[32m   2964\u001b[39m \u001b[38;5;28;01mif\u001b[39;00m \u001b[38;5;129;01mnot\u001b[39;00m no_val_X \u001b[38;5;129;01mand\u001b[39;00m check_params.get(\u001b[33m\"\u001b[39m\u001b[33mensure_2d\u001b[39m\u001b[33m\"\u001b[39m, \u001b[38;5;28;01mTrue\u001b[39;00m):\n\u001b[32m-> \u001b[39m\u001b[32m2965\u001b[39m     _check_n_features(_estimator, X, reset=reset)\n\u001b[32m   2967\u001b[39m \u001b[38;5;28;01mreturn\u001b[39;00m out\n",
            "\u001b[36mFile \u001b[39m\u001b[32m~/anaconda3/envs/nlp/lib/python3.11/site-packages/sklearn/utils/validation.py:2829\u001b[39m, in \u001b[36m_check_n_features\u001b[39m\u001b[34m(estimator, X, reset)\u001b[39m\n\u001b[32m   2826\u001b[39m     \u001b[38;5;28;01mreturn\u001b[39;00m\n\u001b[32m   2828\u001b[39m \u001b[38;5;28;01mif\u001b[39;00m n_features != estimator.n_features_in_:\n\u001b[32m-> \u001b[39m\u001b[32m2829\u001b[39m     \u001b[38;5;28;01mraise\u001b[39;00m \u001b[38;5;167;01mValueError\u001b[39;00m(\n\u001b[32m   2830\u001b[39m         \u001b[33mf\u001b[39m\u001b[33m\"\u001b[39m\u001b[33mX has \u001b[39m\u001b[38;5;132;01m{\u001b[39;00mn_features\u001b[38;5;132;01m}\u001b[39;00m\u001b[33m features, but \u001b[39m\u001b[38;5;132;01m{\u001b[39;00mestimator.\u001b[34m__class__\u001b[39m.\u001b[34m__name__\u001b[39m\u001b[38;5;132;01m}\u001b[39;00m\u001b[33m \u001b[39m\u001b[33m\"\u001b[39m\n\u001b[32m   2831\u001b[39m         \u001b[33mf\u001b[39m\u001b[33m\"\u001b[39m\u001b[33mis expecting \u001b[39m\u001b[38;5;132;01m{\u001b[39;00mestimator.n_features_in_\u001b[38;5;132;01m}\u001b[39;00m\u001b[33m features as input.\u001b[39m\u001b[33m\"\u001b[39m\n\u001b[32m   2832\u001b[39m     )\n",
            "\u001b[31mValueError\u001b[39m: X has 288558 features, but NearestNeighbors is expecting 400 features as input."
          ]
        }
      ],
      "source": [
        "def knn_retrieve(claims_id, claims_emb, evidence_emb, evidence_df, k):\n",
        "\n",
        "    neigh = NearestNeighbors(n_neighbors=k, metric='cosine')\n",
        "    neigh.fit(evidence_emb)\n",
        "    \n",
        "    distances, indices = neigh.kneighbors(claims_emb)\n",
        "    \n",
        "    top_evidence_id = {}\n",
        "    for i in range(len(claims_id)):\n",
        "        top_evidence_id[claims_id[i]] = [evidence_df.iloc[int(idx)]['id'] for idx in indices[i]]\n",
        "    return top_evidence_id\n",
        "\n",
        "top_evidence_id = knn_retrieve(dev_claims_id, dev_claims_vec, evidence_vec, filtered_evidence_processed_df, k=3)\n",
        "\n",
        "with open('data/dev-claims.json', 'r') as input_file:\n",
        "    test_out_temp = json.load(input_file)\n",
        "\n",
        "for claim_id, _ in test_out_temp.items():\n",
        "\ttest_out_temp[claim_id][\"evidences\"] = top_evidence_id[claim_id]\n",
        "\n",
        "with open(\"dev_predict.json\", \"w\") as outfile:\n",
        "    json.dump(test_out_temp, outfile)"
      ]
    },
    {
      "cell_type": "markdown",
      "metadata": {},
      "source": [
        "knn"
      ]
    },
    {
      "cell_type": "code",
      "execution_count": 19,
      "metadata": {},
      "outputs": [
        {
          "ename": "ValueError",
          "evalue": "X has 288558 features, but NearestNeighbors is expecting 400 features as input.",
          "output_type": "error",
          "traceback": [
            "\u001b[31m---------------------------------------------------------------------------\u001b[39m",
            "\u001b[31mValueError\u001b[39m                                Traceback (most recent call last)",
            "\u001b[36mCell\u001b[39m\u001b[36m \u001b[39m\u001b[32mIn[19]\u001b[39m\u001b[32m, line 13\u001b[39m\n\u001b[32m     10\u001b[39m         top_evidence_id[claims_id[i]] = [evidence_df.iloc[\u001b[38;5;28mint\u001b[39m(idx)][\u001b[33m'\u001b[39m\u001b[33mid\u001b[39m\u001b[33m'\u001b[39m] \u001b[38;5;28;01mfor\u001b[39;00m idx \u001b[38;5;129;01min\u001b[39;00m indices[i]]\n\u001b[32m     11\u001b[39m     \u001b[38;5;28;01mreturn\u001b[39;00m top_evidence_id\n\u001b[32m---> \u001b[39m\u001b[32m13\u001b[39m top_evidence_id = knn_retrieve(dev_claims_id, dev_claims_vec, evidence_vec, filtered_evidence_processed_df, k=\u001b[32m3\u001b[39m)\n\u001b[32m     15\u001b[39m \u001b[38;5;28;01mwith\u001b[39;00m \u001b[38;5;28mopen\u001b[39m(\u001b[33m'\u001b[39m\u001b[33mdata/dev-claims.json\u001b[39m\u001b[33m'\u001b[39m, \u001b[33m'\u001b[39m\u001b[33mr\u001b[39m\u001b[33m'\u001b[39m) \u001b[38;5;28;01mas\u001b[39;00m input_file:\n\u001b[32m     16\u001b[39m     test_out_temp = json.load(input_file)\n",
            "\u001b[36mCell\u001b[39m\u001b[36m \u001b[39m\u001b[32mIn[19]\u001b[39m\u001b[32m, line 6\u001b[39m, in \u001b[36mknn_retrieve\u001b[39m\u001b[34m(claims_id, claims_emb, evidence_emb, evidence_df, k)\u001b[39m\n\u001b[32m      3\u001b[39m neigh = NearestNeighbors(n_neighbors=k, metric=\u001b[33m'\u001b[39m\u001b[33mcosine\u001b[39m\u001b[33m'\u001b[39m)\n\u001b[32m      4\u001b[39m neigh.fit(evidence_emb)\n\u001b[32m----> \u001b[39m\u001b[32m6\u001b[39m distances, indices = neigh.kneighbors(claims_emb)\n\u001b[32m      8\u001b[39m top_evidence_id = {}\n\u001b[32m      9\u001b[39m \u001b[38;5;28;01mfor\u001b[39;00m i \u001b[38;5;129;01min\u001b[39;00m \u001b[38;5;28mrange\u001b[39m(\u001b[38;5;28mlen\u001b[39m(claims_id)):\n",
            "\u001b[36mFile \u001b[39m\u001b[32m~/anaconda3/envs/nlp/lib/python3.11/site-packages/sklearn/neighbors/_base.py:838\u001b[39m, in \u001b[36mKNeighborsMixin.kneighbors\u001b[39m\u001b[34m(self, X, n_neighbors, return_distance)\u001b[39m\n\u001b[32m    836\u001b[39m         X = _check_precomputed(X)\n\u001b[32m    837\u001b[39m     \u001b[38;5;28;01melse\u001b[39;00m:\n\u001b[32m--> \u001b[39m\u001b[32m838\u001b[39m         X = validate_data(\n\u001b[32m    839\u001b[39m             \u001b[38;5;28mself\u001b[39m,\n\u001b[32m    840\u001b[39m             X,\n\u001b[32m    841\u001b[39m             ensure_all_finite=ensure_all_finite,\n\u001b[32m    842\u001b[39m             accept_sparse=\u001b[33m\"\u001b[39m\u001b[33mcsr\u001b[39m\u001b[33m\"\u001b[39m,\n\u001b[32m    843\u001b[39m             reset=\u001b[38;5;28;01mFalse\u001b[39;00m,\n\u001b[32m    844\u001b[39m             order=\u001b[33m\"\u001b[39m\u001b[33mC\u001b[39m\u001b[33m\"\u001b[39m,\n\u001b[32m    845\u001b[39m         )\n\u001b[32m    847\u001b[39m n_samples_fit = \u001b[38;5;28mself\u001b[39m.n_samples_fit_\n\u001b[32m    848\u001b[39m \u001b[38;5;28;01mif\u001b[39;00m n_neighbors > n_samples_fit:\n",
            "\u001b[36mFile \u001b[39m\u001b[32m~/anaconda3/envs/nlp/lib/python3.11/site-packages/sklearn/utils/validation.py:2965\u001b[39m, in \u001b[36mvalidate_data\u001b[39m\u001b[34m(_estimator, X, y, reset, validate_separately, skip_check_array, **check_params)\u001b[39m\n\u001b[32m   2962\u001b[39m     out = X, y\n\u001b[32m   2964\u001b[39m \u001b[38;5;28;01mif\u001b[39;00m \u001b[38;5;129;01mnot\u001b[39;00m no_val_X \u001b[38;5;129;01mand\u001b[39;00m check_params.get(\u001b[33m\"\u001b[39m\u001b[33mensure_2d\u001b[39m\u001b[33m\"\u001b[39m, \u001b[38;5;28;01mTrue\u001b[39;00m):\n\u001b[32m-> \u001b[39m\u001b[32m2965\u001b[39m     _check_n_features(_estimator, X, reset=reset)\n\u001b[32m   2967\u001b[39m \u001b[38;5;28;01mreturn\u001b[39;00m out\n",
            "\u001b[36mFile \u001b[39m\u001b[32m~/anaconda3/envs/nlp/lib/python3.11/site-packages/sklearn/utils/validation.py:2829\u001b[39m, in \u001b[36m_check_n_features\u001b[39m\u001b[34m(estimator, X, reset)\u001b[39m\n\u001b[32m   2826\u001b[39m     \u001b[38;5;28;01mreturn\u001b[39;00m\n\u001b[32m   2828\u001b[39m \u001b[38;5;28;01mif\u001b[39;00m n_features != estimator.n_features_in_:\n\u001b[32m-> \u001b[39m\u001b[32m2829\u001b[39m     \u001b[38;5;28;01mraise\u001b[39;00m \u001b[38;5;167;01mValueError\u001b[39;00m(\n\u001b[32m   2830\u001b[39m         \u001b[33mf\u001b[39m\u001b[33m\"\u001b[39m\u001b[33mX has \u001b[39m\u001b[38;5;132;01m{\u001b[39;00mn_features\u001b[38;5;132;01m}\u001b[39;00m\u001b[33m features, but \u001b[39m\u001b[38;5;132;01m{\u001b[39;00mestimator.\u001b[34m__class__\u001b[39m.\u001b[34m__name__\u001b[39m\u001b[38;5;132;01m}\u001b[39;00m\u001b[33m \u001b[39m\u001b[33m\"\u001b[39m\n\u001b[32m   2831\u001b[39m         \u001b[33mf\u001b[39m\u001b[33m\"\u001b[39m\u001b[33mis expecting \u001b[39m\u001b[38;5;132;01m{\u001b[39;00mestimator.n_features_in_\u001b[38;5;132;01m}\u001b[39;00m\u001b[33m features as input.\u001b[39m\u001b[33m\"\u001b[39m\n\u001b[32m   2832\u001b[39m     )\n",
            "\u001b[31mValueError\u001b[39m: X has 288558 features, but NearestNeighbors is expecting 400 features as input."
          ]
        }
      ],
      "source": [
        "def knn_retrieve(claims_id, claims_emb, evidence_emb, evidence_df, k):\n",
        "\n",
        "    neigh = NearestNeighbors(n_neighbors=k, metric='cosine')\n",
        "    neigh.fit(evidence_emb)\n",
        "    \n",
        "    distances, indices = neigh.kneighbors(claims_emb)\n",
        "    \n",
        "    top_evidence_id = {}\n",
        "    for i in range(len(claims_id)):\n",
        "        top_evidence_id[claims_id[i]] = [evidence_df.iloc[int(idx)]['id'] for idx in indices[i]]\n",
        "    return top_evidence_id\n",
        "\n",
        "top_evidence_id = knn_retrieve(dev_claims_id, dev_claims_vec, evidence_vec, filtered_evidence_processed_df, k=3)\n",
        "\n",
        "with open('data/dev-claims.json', 'r') as input_file:\n",
        "    test_out_temp = json.load(input_file)\n",
        "\n",
        "for claim_id, _ in test_out_temp.items():\n",
        "\ttest_out_temp[claim_id][\"evidences\"] = top_evidence_id[claim_id]\n",
        "\n",
        "with open(\"dev_predict.json\", \"w\") as outfile:\n",
        "    json.dump(test_out_temp, outfile)"
      ]
    },
    {
      "cell_type": "markdown",
      "metadata": {},
      "source": [
        "python eval.py --predictions dev_predict.json --groundtruth data/dev-claims.json"
      ]
    }
  ],
  "metadata": {
    "colab": {
      "provenance": []
    },
    "kernelspec": {
      "display_name": "nlp",
      "language": "python",
      "name": "python3"
    },
    "language_info": {
      "codemirror_mode": {
        "name": "ipython",
        "version": 3
      },
      "file_extension": ".py",
      "mimetype": "text/x-python",
      "name": "python",
      "nbconvert_exporter": "python",
      "pygments_lexer": "ipython3",
      "version": "3.11.11"
    }
  },
  "nbformat": 4,
  "nbformat_minor": 0
}
