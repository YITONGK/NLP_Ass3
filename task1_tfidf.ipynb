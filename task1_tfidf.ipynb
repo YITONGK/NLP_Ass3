{
  "cells": [
    {
      "cell_type": "markdown",
      "metadata": {
        "id": "32yCsRUo8H33"
      },
      "source": [
        "# 2025 COMP90042 Project\n",
        "*Make sure you change the file name with your group id.*"
      ]
    },
    {
      "cell_type": "markdown",
      "metadata": {
        "id": "XCybYoGz8YWQ"
      },
      "source": [
        "# Readme\n",
        "*If there is something to be noted for the marker, please mention here.*\n",
        "\n",
        "*If you are planning to implement a program with Object Oriented Programming style, please put those the bottom of this ipynb file*"
      ]
    },
    {
      "cell_type": "markdown",
      "metadata": {
        "id": "6po98qVA8bJD"
      },
      "source": [
        "# 1.DataSet Processing\n",
        "(You can add as many code blocks and text blocks as you need. However, YOU SHOULD NOT MODIFY the section title)"
      ]
    },
    {
      "cell_type": "code",
      "execution_count": null,
      "metadata": {
        "colab": {
          "base_uri": "https://localhost:8080/"
        },
        "id": "0Z-dpwJfPuzE",
        "outputId": "bebaa35c-b4f9-4677-f910-b2804e44a861"
      },
      "outputs": [],
      "source": [
        "import pandas as pd\n",
        "import json\n",
        "import numpy as np\n",
        "import nltk\n",
        "from nltk.corpus import stopwords\n",
        "import re\n",
        "from collections import Counter\n",
        "from sklearn.feature_extraction.text import TfidfVectorizer\n",
        "from sklearn.neighbors import NearestNeighbors\n",
        "\n",
        "\n",
        "nltk.download('stopwords')\n",
        "nltk.download('punkt')\n",
        "nltk.download('punkt_tab')\n",
        "nltk.download('wordnet')\n",
        "stopwords = set(stopwords.words('english'))"
      ]
    },
    {
      "cell_type": "code",
      "execution_count": null,
      "metadata": {
        "id": "zYFzrjDAUGRJ"
      },
      "outputs": [],
      "source": [
        "evidence = json.load(open('data/evidence.json', 'r'))\n",
        "train_claims = json.load(open('data/train-claims.json', 'r'))\n",
        "dev_claims = json.load(open('data/dev-claims.json', 'r'))\n",
        "test_claims = json.load(open('data/test-claims-unlabelled.json', 'r'))\n"
      ]
    },
    {
      "cell_type": "code",
      "execution_count": null,
      "metadata": {},
      "outputs": [],
      "source": [
        "print(\"Number of evidence:\", len(evidence))\n",
        "print(\"Number of claims in the training set:\", len(train_claims))"
      ]
    },
    {
      "cell_type": "code",
      "execution_count": null,
      "metadata": {},
      "outputs": [],
      "source": [
        "import json\n",
        "import matplotlib.pyplot as plt\n",
        "from collections import Counter\n",
        "from statistics import mean\n",
        "\n",
        "label_counts_train = Counter([claim['claim_label'] for claim in train_claims.values()])\n",
        "\n",
        "labels = list(label_counts_train.keys())\n",
        "sizes_train = list(label_counts_train.values())\n",
        "colors = ['lightpink', 'lightyellow', 'lightgreen', 'lightblue']\n",
        "\n",
        "def format_label(pct, allvals):\n",
        "    absolute = int(pct / 100. * sum(allvals))\n",
        "    return \"{:.1f}%\\n({:d})\".format(pct, absolute)\n",
        "\n",
        "plt.figure(figsize=(8, 8))\n",
        "plt.pie(sizes_train, labels=labels, colors=colors, autopct=lambda pct: format_label(pct, sizes_train), startangle=140)\n",
        "plt.axis('equal')\n",
        "plt.title('Distribution of Claim Labels in Training Set')\n",
        "plt.show()"
      ]
    },
    {
      "cell_type": "code",
      "execution_count": null,
      "metadata": {},
      "outputs": [],
      "source": [
        "lemmatizer = nltk.stem.wordnet.WordNetLemmatizer()\n",
        "\n",
        "def lemmatize(word):\n",
        "    lemma = lemmatizer.lemmatize(word,'v')\n",
        "    if lemma == word:\n",
        "        lemma = lemmatizer.lemmatize(word,'n')\n",
        "    return lemma\n",
        "\t\n",
        "from nltk.stem.snowball import SnowballStemmer\n",
        "stemmer = SnowballStemmer('english')\n",
        "def data_preprocess(data, remove_stopwords, lemma, stem):\n",
        "\ttokens = nltk.word_tokenize(data.lower())\n",
        "\ttokens = [token for token in tokens if token.isalpha()]\n",
        "\tif remove_stopwords:\n",
        "\t\ttokens = [token for token in tokens if token not in stopwords]\n",
        "\tif lemma:\n",
        "\t\ttokens = [lemmatize(token) for token in tokens]\n",
        "\tif stem:\n",
        "\t\ttokens = [stemmer.stem(token) for token in tokens]\n",
        "\treturn ' '.join(tokens)"
      ]
    },
    {
      "cell_type": "code",
      "execution_count": null,
      "metadata": {
        "colab": {
          "base_uri": "https://localhost:8080/"
        },
        "id": "GyGN8NlkNaAn",
        "outputId": "9c4c1fb6-ca8a-4541-f749-37a6db6e42ce"
      },
      "outputs": [],
      "source": [
        "english_evidence = {}\n",
        "for evidence_id, evidence_text in evidence.items():\n",
        "    tokens = nltk.word_tokenize(evidence_text)\n",
        "    english_tokens = [token for token in tokens if token.isalpha()]\n",
        "    if len(english_tokens) / len(tokens) > 0.5:\n",
        "        english_tokens = [token for token in english_tokens if token.lower() not in stopwords]\n",
        "        english_text = ' '.join(english_tokens)\n",
        "        english_evidence[evidence_id] = english_text\n",
        "\n",
        "print(f\"English Evidence Count:, {len(english_evidence)}/{len(evidence)}\")\n"
      ]
    },
    {
      "cell_type": "code",
      "execution_count": null,
      "metadata": {
        "id": "q0QGLgGvVkeN"
      },
      "outputs": [],
      "source": [
        "train_claims_text = []\n",
        "for claim in train_claims.values():\n",
        "    train_claims_text.append(data_preprocess(claim['claim_text'], True, True, False))\n",
        "\n",
        "dev_claims_text = []\n",
        "for claim in dev_claims.values():\n",
        "    dev_claims_text.append(data_preprocess(claim['claim_text'], True, True, False))\n",
        "\n",
        "claims_words = []\n",
        "for claims_text in [train_claims_text, dev_claims_text]:\n",
        "    for claim in claims_text:\n",
        "        tokens = nltk.word_tokenize(claim)\n",
        "        for token in tokens:\n",
        "            claims_words.append(token.lower())\n",
        "\n",
        "top_words = [word for word, count in Counter(claims_words).most_common(150)]\n"
      ]
    },
    {
      "cell_type": "code",
      "execution_count": null,
      "metadata": {},
      "outputs": [],
      "source": [
        "evidence_with_top_words = {}\n",
        "for evidence_id, evidence_text in english_evidence.items():\n",
        "    words = nltk.word_tokenize(evidence_text)\n",
        "    if any(word.lower() in top_words for word in words):\n",
        "        evidence_with_top_words[evidence_id] = evidence_text\n",
        "\n",
        "for value in train_claims.values():\n",
        "    if \"evidences\" in value:\n",
        "        for evidence_id in value[\"evidences\"]:\n",
        "            if evidence_id in evidence:\n",
        "                evidence_with_top_words[evidence_id] = evidence[evidence_id]\n",
        "            else:\n",
        "                print(\"Evidence ID not found:\", evidence_id)"
      ]
    },
    {
      "cell_type": "code",
      "execution_count": null,
      "metadata": {},
      "outputs": [],
      "source": [
        "def convert_to_df(data, labelled):\n",
        "\tdata_for_dataframe = []\n",
        "\tfor claim_id, claim_info in data.items():\n",
        "\t\tclaims_text = data_preprocess(claim_info['claim_text'], True, True, False)\n",
        "\t\tif labelled:\n",
        "\t\t\tclaim_label = claim_info['claim_label']\n",
        "\t\t\tevidence_id = claim_info['evidences']\n",
        "\t\t\tdata_for_dataframe.append({\n",
        "\t\t\t\t\t'claim_id': claim_id,\n",
        "\t\t\t\t\t'claim_text': claims_text,\n",
        "\t\t\t\t\t'claim_label': claim_label,\n",
        "\t\t\t\t\t'evidence_id': evidence_id\n",
        "\t\t\t\t})\n",
        "\t\telse:\n",
        "\t\t\tdata_for_dataframe.append({\n",
        "\t\t\t\t\t'claim_id': claim_id,\n",
        "\t\t\t\t\t'claim_text': claims_text\n",
        "\t\t\t\t})\n",
        "\n",
        "\tdf = pd.DataFrame(data_for_dataframe)\n",
        "\treturn df"
      ]
    },
    {
      "cell_type": "code",
      "execution_count": null,
      "metadata": {},
      "outputs": [],
      "source": [
        "evidence_processed = {id: data_preprocess(text, True, True, False) for id, text in evidence.items()}\n",
        "filtered_evidence_processed = {id: data_preprocess(text, True, True, False) for id, text in evidence_with_top_words.items()}\n",
        "with open(\"filtered_evidence_processed.json\", \"w\") as outfile:\n",
        "    json.dump(filtered_evidence_processed, outfile, indent=2)\n",
        "\n",
        "evidence_processed_df = pd.DataFrame(evidence_processed.items(), columns=['id', 'evidence'])\n",
        "filtered_evidence_processed_df = pd.DataFrame(filtered_evidence_processed.items(), columns=['id', 'evidence'])\n",
        "\n",
        "train_claims_df = convert_to_df(train_claims, True)\n",
        "train_claims_df['evidence_texts'] = train_claims_df['evidence_id'].apply(\n",
        "\tlambda x: [evidence_processed[evidence_id] for evidence_id in x]\n",
        ")\n",
        "\n",
        "dev_claims_df = convert_to_df(dev_claims, True)\n",
        "\n",
        "train_claims_list = train_claims_df['claim_text'].tolist()\n",
        "dev_claims_list = dev_claims_df['claim_text'].tolist()\n",
        "dev_claims_id = dev_claims_df['claim_id'].tolist()\n",
        "\n",
        "evidence_id = list(evidence_processed.keys())\n",
        "evidence_texts  = list(evidence_processed.values())\n",
        "filtered_evidence_texts = list(filtered_evidence_processed.values())"
      ]
    },
    {
      "cell_type": "markdown",
      "metadata": {
        "id": "1FA2ao2l8hOg"
      },
      "source": [
        "# 2. Model Implementation\n",
        "(You can add as many code blocks and text blocks as you need. However, YOU SHOULD NOT MODIFY the section title)"
      ]
    },
    {
      "cell_type": "code",
      "execution_count": null,
      "metadata": {},
      "outputs": [],
      "source": [
        "vectorizer = TfidfVectorizer()\n",
        "vectorizer.fit(train_claims_list + filtered_evidence_texts)\n",
        "evidence_vec = vectorizer.transform(filtered_evidence_texts)\n",
        "dev_claims_vec = vectorizer.transform(dev_claims_list)"
      ]
    },
    {
      "cell_type": "markdown",
      "metadata": {
        "id": "EzGuzHPE87Ya"
      },
      "source": [
        "# 3.Testing and Evaluation\n",
        "(You can add as many code blocks and text blocks as you need. However, YOU SHOULD NOT MODIFY the section title)"
      ]
    },
    {
      "cell_type": "code",
      "execution_count": null,
      "metadata": {},
      "outputs": [],
      "source": [
        "from sklearn.metrics.pairwise import cosine_similarity\n",
        "def knn_retrieve(claims_id, claims_emb, evidence_emb, evidence_df, k=3):\n",
        "\tsim = cosine_similarity(claims_emb, evidence_emb)\n",
        "\n",
        "\ttop_evidence_id = {}\n",
        "\tfor i in range(sim.shape[0]):\n",
        "\t\ttop_k_idx = np.argsort(sim[i])[::-1][:k]\n",
        "\t\ttop_evidence_id[claims_id[i]] = [evidence_df.iloc[int(ind)]['id'] for ind in top_k_idx]\n",
        "\treturn top_evidence_id\n",
        "\n",
        "top_evidence_id = knn_retrieve(dev_claims_id, dev_claims_vec, evidence_vec, filtered_evidence_processed_df, k=3)\n",
        "\n",
        "with open('data/dev-claims.json', 'r') as input_file:\n",
        "    test_out_temp = json.load(input_file)\n",
        "\n",
        "for claim_id, _ in test_out_temp.items():\n",
        "\ttest_out_temp[claim_id][\"evidences\"] = top_evidence_id[claim_id]\n",
        "\n",
        "with open(\"dev_predict.json\", \"w\") as outfile:\n",
        "    json.dump(test_out_temp, outfile)\n"
      ]
    },
    {
      "cell_type": "markdown",
      "metadata": {},
      "source": [
        "python eval.py --predictions dev_predict.json --groundtruth data/dev-claims.json"
      ]
    }
  ],
  "metadata": {
    "colab": {
      "provenance": []
    },
    "kernelspec": {
      "display_name": "Python 3",
      "language": "python",
      "name": "python3"
    },
    "language_info": {
      "codemirror_mode": {
        "name": "ipython",
        "version": 3
      },
      "file_extension": ".py",
      "mimetype": "text/x-python",
      "name": "python",
      "nbconvert_exporter": "python",
      "pygments_lexer": "ipython3",
      "version": "3.9.6"
    }
  },
  "nbformat": 4,
  "nbformat_minor": 0
}
